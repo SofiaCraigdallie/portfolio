{
 "cells": [
  {
   "cell_type": "markdown",
   "id": "a742d80d",
   "metadata": {},
   "source": [
    "\n",
    "# 🎬 Proyecto extra — TMDb 5000 (movies & credits): calidad de datos y joins\n",
    "\n",
    "**Unidad:** UT2 — Calidad y Ética de los Datos  \n",
    "**Archivos Kaggle:** `tmdb_5000_movies.csv` y `tmdb_5000_credits.csv`  \n",
    "**Objetivo:** evaluar calidad (nulos, duplicados, rangos) e integridad referencial entre `movies` y `credits`.\n"
   ]
  },
  {
   "cell_type": "code",
   "execution_count": 2,
   "id": "51d57a2b",
   "metadata": {},
   "outputs": [],
   "source": [
    "\n",
    "from pathlib import Path\n",
    "import pandas as pd\n",
    "import numpy as np\n",
    "import matplotlib.pyplot as plt\n",
    "\n",
    "pd.set_option(\"display.max_columns\", 200)\n",
    "\n",
    "MOVIES_CSV = Path(\"tmdb_5000_movies.csv\")\n",
    "CREDITS_CSV = Path(\"tmdb_5000_credits.csv\")\n",
    "\n",
    "assert MOVIES_CSV.exists(), \"No se encontró tmdb_5000_movies.csv\"\n",
    "assert CREDITS_CSV.exists(), \"No se encontró tmdb_5000_credits.csv\"\n"
   ]
  },
  {
   "cell_type": "code",
   "execution_count": null,
   "id": "d930399d",
   "metadata": {},
   "outputs": [
    {
     "data": {
      "text/plain": [
       "((4803, 20),\n",
       " (4803, 4),\n",
       " ['budget',\n",
       "  'genres',\n",
       "  'homepage',\n",
       "  'id',\n",
       "  'keywords',\n",
       "  'original_language',\n",
       "  'original_title',\n",
       "  'overview',\n",
       "  'popularity',\n",
       "  'production_companies'],\n",
       " ['movie_id', 'title', 'cast', 'crew'])"
      ]
     },
     "execution_count": 2,
     "metadata": {},
     "output_type": "execute_result"
    }
   ],
   "source": [
    "\n",
    "movies = pd.read_csv(MOVIES_CSV, low_memory=False)\n",
    "credits = pd.read_csv(CREDITS_CSV)\n",
    "movies.shape, credits.shape, movies.columns.tolist()[:10], credits.columns.tolist()"
   ]
  },
  {
   "cell_type": "code",
   "execution_count": null,
   "id": "ff2bef61",
   "metadata": {},
   "outputs": [
    {
     "data": {
      "text/html": [
       "<div>\n",
       "<style scoped>\n",
       "    .dataframe tbody tr th:only-of-type {\n",
       "        vertical-align: middle;\n",
       "    }\n",
       "\n",
       "    .dataframe tbody tr th {\n",
       "        vertical-align: top;\n",
       "    }\n",
       "\n",
       "    .dataframe thead th {\n",
       "        text-align: right;\n",
       "    }\n",
       "</style>\n",
       "<table border=\"1\" class=\"dataframe\">\n",
       "  <thead>\n",
       "    <tr style=\"text-align: right;\">\n",
       "      <th></th>\n",
       "      <th>id</th>\n",
       "      <th>title</th>\n",
       "      <th>release_date</th>\n",
       "      <th>budget</th>\n",
       "      <th>revenue</th>\n",
       "      <th>runtime</th>\n",
       "    </tr>\n",
       "  </thead>\n",
       "  <tbody>\n",
       "    <tr>\n",
       "      <th>0</th>\n",
       "      <td>19995</td>\n",
       "      <td>Avatar</td>\n",
       "      <td>2009-12-10</td>\n",
       "      <td>237000000</td>\n",
       "      <td>2787965087</td>\n",
       "      <td>162.0</td>\n",
       "    </tr>\n",
       "    <tr>\n",
       "      <th>1</th>\n",
       "      <td>285</td>\n",
       "      <td>Pirates of the Caribbean: At World's End</td>\n",
       "      <td>2007-05-19</td>\n",
       "      <td>300000000</td>\n",
       "      <td>961000000</td>\n",
       "      <td>169.0</td>\n",
       "    </tr>\n",
       "    <tr>\n",
       "      <th>2</th>\n",
       "      <td>206647</td>\n",
       "      <td>Spectre</td>\n",
       "      <td>2015-10-26</td>\n",
       "      <td>245000000</td>\n",
       "      <td>880674609</td>\n",
       "      <td>148.0</td>\n",
       "    </tr>\n",
       "    <tr>\n",
       "      <th>3</th>\n",
       "      <td>49026</td>\n",
       "      <td>The Dark Knight Rises</td>\n",
       "      <td>2012-07-16</td>\n",
       "      <td>250000000</td>\n",
       "      <td>1084939099</td>\n",
       "      <td>165.0</td>\n",
       "    </tr>\n",
       "    <tr>\n",
       "      <th>4</th>\n",
       "      <td>49529</td>\n",
       "      <td>John Carter</td>\n",
       "      <td>2012-03-07</td>\n",
       "      <td>260000000</td>\n",
       "      <td>284139100</td>\n",
       "      <td>132.0</td>\n",
       "    </tr>\n",
       "  </tbody>\n",
       "</table>\n",
       "</div>"
      ],
      "text/plain": [
       "       id                                     title release_date     budget  \\\n",
       "0   19995                                    Avatar   2009-12-10  237000000   \n",
       "1     285  Pirates of the Caribbean: At World's End   2007-05-19  300000000   \n",
       "2  206647                                   Spectre   2015-10-26  245000000   \n",
       "3   49026                     The Dark Knight Rises   2012-07-16  250000000   \n",
       "4   49529                               John Carter   2012-03-07  260000000   \n",
       "\n",
       "      revenue  runtime  \n",
       "0  2787965087    162.0  \n",
       "1   961000000    169.0  \n",
       "2   880674609    148.0  \n",
       "3  1084939099    165.0  \n",
       "4   284139100    132.0  "
      ]
     },
     "execution_count": 3,
     "metadata": {},
     "output_type": "execute_result"
    }
   ],
   "source": [
    "\n",
    "# Copias de trabajo\n",
    "dfm = movies.copy()\n",
    "dfc = credits.copy()\n",
    "\n",
    "# Cast básicos\n",
    "dfm['release_date'] = pd.to_datetime(dfm['release_date'], errors='coerce')\n",
    "\n",
    "# Presupuesto/ingresos/runtime a numérico (algunos vienen como strings)\n",
    "for col in ['budget','revenue','runtime']:\n",
    "    dfm[col] = pd.to_numeric(dfm[col], errors='coerce')\n",
    "\n",
    "# IDs\n",
    "dfm['id'] = pd.to_numeric(dfm['id'], errors='coerce')\n",
    "dfc['movie_id'] = pd.to_numeric(dfc['movie_id'], errors='coerce')\n",
    "\n",
    "dfm[['id','title','release_date','budget','revenue','runtime']].head()\n"
   ]
  },
  {
   "cell_type": "markdown",
   "id": "51f0cd58",
   "metadata": {},
   "source": [
    "### ✅ Checks de calidad: nulos, duplicados, rangos"
   ]
  },
  {
   "cell_type": "code",
   "execution_count": null,
   "id": "a844f46f",
   "metadata": {},
   "outputs": [
    {
     "data": {
      "text/plain": [
       "{'title_nulls': 0, 'date_nulls': 1, 'id_nulls': 0}"
      ]
     },
     "execution_count": 4,
     "metadata": {},
     "output_type": "execute_result"
    }
   ],
   "source": [
    "\n",
    "# Nulos críticos\n",
    "nulls = {\n",
    "    'title_nulls': int(dfm['title'].isna().sum()),\n",
    "    'date_nulls': int(dfm['release_date'].isna().sum()),\n",
    "    'id_nulls': int(dfm['id'].isna().sum()),\n",
    "}\n",
    "nulls\n"
   ]
  },
  {
   "cell_type": "code",
   "execution_count": null,
   "id": "318db238",
   "metadata": {},
   "outputs": [
    {
     "data": {
      "text/html": [
       "<div>\n",
       "<style scoped>\n",
       "    .dataframe tbody tr th:only-of-type {\n",
       "        vertical-align: middle;\n",
       "    }\n",
       "\n",
       "    .dataframe tbody tr th {\n",
       "        vertical-align: top;\n",
       "    }\n",
       "\n",
       "    .dataframe thead th {\n",
       "        text-align: right;\n",
       "    }\n",
       "</style>\n",
       "<table border=\"1\" class=\"dataframe\">\n",
       "  <thead>\n",
       "    <tr style=\"text-align: right;\">\n",
       "      <th></th>\n",
       "      <th>title</th>\n",
       "      <th>release_date</th>\n",
       "      <th>n</th>\n",
       "    </tr>\n",
       "  </thead>\n",
       "  <tbody>\n",
       "  </tbody>\n",
       "</table>\n",
       "</div>"
      ],
      "text/plain": [
       "Empty DataFrame\n",
       "Columns: [title, release_date, n]\n",
       "Index: []"
      ]
     },
     "execution_count": 5,
     "metadata": {},
     "output_type": "execute_result"
    }
   ],
   "source": [
    "\n",
    "# Duplicados por (title, release_date)\n",
    "dups = dfm.groupby(['title','release_date'], dropna=False).size().reset_index(name='n')\n",
    "dups = dups[dups['n']>1].sort_values('n', ascending=False)\n",
    "dups.head(10)\n"
   ]
  },
  {
   "cell_type": "code",
   "execution_count": null,
   "id": "62711d6e",
   "metadata": {},
   "outputs": [
    {
     "data": {
      "text/plain": [
       "{'budget_negative_or_nulls': 0,\n",
       " 'revenue_negative_or_nulls': 0,\n",
       " 'runtime_out_of_range': 37}"
      ]
     },
     "execution_count": 6,
     "metadata": {},
     "output_type": "execute_result"
    }
   ],
   "source": [
    "\n",
    "# Rangos plausibles\n",
    "range_checks = {\n",
    "    'budget_negative_or_nulls': int(((dfm['budget'] < 0) | dfm['budget'].isna()).sum()),\n",
    "    'revenue_negative_or_nulls': int(((dfm['revenue'] < 0) | dfm['revenue'].isna()).sum()),\n",
    "    'runtime_out_of_range': int(((dfm['runtime'] <= 0) | (dfm['runtime'] > 500) | dfm['runtime'].isna()).sum())\n",
    "}\n",
    "range_checks\n"
   ]
  },
  {
   "cell_type": "markdown",
   "id": "b9cc0238",
   "metadata": {},
   "source": [
    "### 🔗 Integridad referencial (credits ↔︎ movies)"
   ]
  },
  {
   "cell_type": "code",
   "execution_count": null,
   "id": "75793b17",
   "metadata": {},
   "outputs": [
    {
     "data": {
      "text/plain": [
       "(0, [])"
      ]
     },
     "execution_count": 7,
     "metadata": {},
     "output_type": "execute_result"
    }
   ],
   "source": [
    "\n",
    "# movie_ids en credits que no aparecen en movies.id\n",
    "movies_ids = set(dfm['id'].dropna().astype(int))\n",
    "credits_ids = set(dfc['movie_id'].dropna().astype(int))\n",
    "orphans_in_credits = sorted(list(credits_ids - movies_ids))[:20]  # muestra\n",
    "len_orphans = len(credits_ids - movies_ids)\n",
    "len_orphans, orphans_in_credits\n"
   ]
  },
  {
   "cell_type": "markdown",
   "id": "bdbeeb24",
   "metadata": {},
   "source": [
    "## 📊 Visualizaciones"
   ]
  },
  {
   "cell_type": "code",
   "execution_count": null,
   "id": "df935374",
   "metadata": {},
   "outputs": [
    {
     "data": {
      "image/png": "[encoded data removed]",
      "text/plain": [
       "<Figure size 640x480 with 1 Axes>"
      ]
     },
     "metadata": {},
     "output_type": "display_data"
    }
   ],
   "source": [
    "\n",
    "# Histograma de runtime (válidos)\n",
    "valid_runtime = dfm['runtime'].dropna()\n",
    "valid_runtime = valid_runtime[(valid_runtime>0) & (valid_runtime<=500)]\n",
    "valid_runtime.plot(kind='hist', bins=30, title='Distribución de runtime (min)')\n",
    "plt.xlabel('min'); plt.tight_layout(); plt.show()\n"
   ]
  },
  {
   "cell_type": "code",
   "execution_count": null,
   "id": "1ab75898",
   "metadata": {},
   "outputs": [
    {
     "data": {
      "image/png": "[encoded data removed]",
      "text/plain": [
       "<Figure size 640x480 with 1 Axes>"
      ]
     },
     "metadata": {},
     "output_type": "display_data"
    }
   ],
   "source": [
    "\n",
    "# Scatter budget vs revenue (solo valores positivos)\n",
    "subset = dfm[(dfm['budget']>0) & (dfm['revenue']>0)]\n",
    "subset.plot(kind='scatter', x='budget', y='revenue', title='Budget vs Revenue')\n",
    "plt.tight_layout(); plt.show()\n"
   ]
  }
 ],
 "metadata": {
  "kernelspec": {
   "display_name": "Python 3",
   "language": "python",
   "name": "python3"
  },
  "language_info": {
   "codemirror_mode": {
    "name": "ipython",
    "version": 3
   },
   "file_extension": ".py",
   "mimetype": "text/x-python",
   "name": "python",
   "nbconvert_exporter": "python",
   "pygments_lexer": "ipython3",
   "version": "3.12.2"
  }
 },
 "nbformat": 4,
 "nbformat_minor": 5
}
